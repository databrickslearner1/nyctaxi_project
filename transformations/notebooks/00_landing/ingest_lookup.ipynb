{
 "cells": [
  {
   "cell_type": "code",
   "execution_count": 0,
   "metadata": {
    "application/vnd.databricks.v1+cell": {
     "cellMetadata": {},
     "inputWidgets": {},
     "nuid": "23e53431-1817-429c-bfcc-49b86e7ae34b",
     "showTitle": false,
     "tableResultSettingsMap": {},
     "title": ""
    }
   },
   "outputs": [],
   "source": [
    "import sys\n",
    "import os\n",
    "# Go two levels up to reach the project root\n",
    "project_root = os.path.abspath(os.path.join(os.getcwd(), \"../..\"))\n",
    "\n",
    "if project_root not in sys.path:\n",
    "    sys.path.append(project_root)\n",
    "\n",
    "import urllib.request\n",
    "import shutil\n",
    "from modules.data_loader.file_downloader import download_file\n",
    "\n",
    "try:\n",
    "    # Construct the URL for the Parquet file corresponding to this month\n",
    "    url = \"https://d37ci6vzurychx.cloudfront.net/misc/taxi_zone_lookup.csv\"\n",
    "\n",
    "    # Define and create the local directory for this date's data\n",
    "    dir_path = f\"/Volumes/nyctaxi/00_landing/data_sources/lookup\"\n",
    "\n",
    "    # Define the full path for the downloaded file\n",
    "    local_path = f\"{dir_path}/taxi_zone_lookup.csv\"\n",
    "\n",
    "    # Download the file\n",
    "    download_file(url, dir_path, local_path)\n",
    "    \n",
    "    dbutils.jobs.taskValues.set(key=\"continue_downstream\", value=\"yes\")\n",
    "    print(\"File succesfully uploaded\")\n",
    "except Exception as e:\n",
    "    dbutils.jobs.taskValues.set(key=\"continue_downstream\", value=\"no\")\n",
    "    print(f\"File download failed: {str(e)}\")"
   ]
  }
 ],
 "metadata": {
  "application/vnd.databricks.v1+notebook": {
   "computePreferences": null,
   "dashboards": [],
   "environmentMetadata": null,
   "inputWidgetPreferences": null,
   "language": "python",
   "notebookMetadata": {
    "pythonIndentUnit": 4
   },
   "notebookName": "ingest_lookup",
   "widgets": {}
  },
  "language_info": {
   "name": "python"
  }
 },
 "nbformat": 4,
 "nbformat_minor": 0
}
